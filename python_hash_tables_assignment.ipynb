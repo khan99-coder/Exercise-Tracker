{
  "cells": [
    {
      "cell_type": "markdown",
      "metadata": {
        "id": "view-in-github",
        "colab_type": "text"
      },
      "source": [
        "<a href=\"https://colab.research.google.com/github/khan99-coder/Exercise-Tracker/blob/main/python_hash_tables_assignment.ipynb\" target=\"_parent\"><img src=\"https://colab.research.google.com/assets/colab-badge.svg\" alt=\"Open In Colab\"/></a>"
      ]
    },
    {
      "cell_type": "markdown",
      "metadata": {
        "id": "tough-steps"
      },
      "source": [
        "# Assignment 2 - Hash Tables in Python\n",
        "\n",
        "_This assignment is a part of the course [\"Data Structures and Algorithms in Python\"](https://jovian.ai/learn/data-structures-and-algorithms-in-python)._\n",
        "\n",
        "In this assignment, you will implement Python dictionaries from scratch using hash tables.\n",
        "\n",
        "As you go through this notebook, you will find the symbol **???** in certain places. To complete this assignment, you must replace all the **???** with appropriate values, expressions or statements to ensure that the notebook runs properly end-to-end. \n",
        "\n",
        "**Guidelines**\n",
        "\n",
        "1. Make sure to run all the code cells, otherwise you may get errors like `NameError` for undefined variables.\n",
        "2. Do not change variable names, delete cells or disturb other existing code. It may cause problems during evaluation.\n",
        "3. In some cases, you may need to add some code cells or new statements before or after the line of code containing the **???**. \n",
        "4. Since you'll be using a temporary online service for code execution, save your work by running `jovian.commit` at regular intervals.\n",
        "5. Questions marked **(Optional)** will not be considered for evaluation, and can be skipped. They are for your learning.\n",
        "6. If you are stuck, you can ask for help on the [community forum](https://jovian.ai/forum/c/data-structures-and-algorithms-in-python/assignment-2/88). Post errors or ask for hints, but **please don't ask for OR share the full working answer code** on the forum.\n",
        "7. There are some tests included with this notebook to help you test your implementation. However, after submission your code will be tested with some hidden test cases. Make sure to test your code exhaustively to cover all edge cases.\n",
        "\n",
        "\n",
        "**Important Links**\n",
        "\n",
        "* Submit your work here: https://jovian.ai/learn/data-structures-and-algorithms-in-python/assignment/assignment-2-hash-table-and-python-dictionaries\n",
        "* Ask questions and get help: https://jovian.ai/forum/c/data-structures-and-algorithms-in-python/assignment-2/88\n",
        "* Lesson 2 video for review: https://jovian.ai/aakashns/python-binary-search-trees\n",
        "* Lesson 2 notebook for review: https://jovian.ai/aakashns/python-binary-search-trees\n",
        "\n",
        "\n",
        "\n"
      ],
      "id": "tough-steps"
    },
    {
      "cell_type": "markdown",
      "metadata": {
        "id": "prescription-quest"
      },
      "source": [
        "### How to Run the Code and Save Your Work\n",
        "\n",
        "**Option 1: Running using free online resources (1-click, recommended)**: Click the **Run** button at the top of this page and select **Run on Binder**. You can also select \"Run on Colab\" or \"Run on Kaggle\", but you'll need to create an account on [Google Colab](https://colab.research.google.com) or [Kaggle](https://kaggle.com) to use these platforms.\n",
        "\n",
        "\n",
        "**Option 2: Running on your computer locally**: To run the code on your computer locally, you'll need to set up [Python](https://www.python.org) & [Conda](https://docs.conda.io/projects/conda/en/latest/user-guide/install/), download the notebook and install the required libraries. Click the **Run** button at the top of this page, select the **Run Locally** option, and follow the instructions.\n",
        "\n",
        "**Saving your work**: You can save a snapshot of the assignment to your [Jovian](https://jovian.ai) profile, so that you can access it later and continue your work. Keep saving your work by running `jovian.commit` from time to time."
      ],
      "id": "prescription-quest"
    },
    {
      "cell_type": "code",
      "execution_count": 1,
      "metadata": {
        "id": "hollow-power"
      },
      "outputs": [],
      "source": [
        "project='python-hash-tables-assignment'"
      ],
      "id": "hollow-power"
    },
    {
      "cell_type": "code",
      "execution_count": 2,
      "metadata": {
        "colab": {
          "base_uri": "https://localhost:8080/"
        },
        "id": "special-mauritius",
        "outputId": "0bc5bfdd-6a3f-4cc1-aa22-f7de32de3d12"
      },
      "outputs": [
        {
          "output_type": "stream",
          "name": "stdout",
          "text": [
            "\u001b[?25l     \u001b[90m━━━━━━━━━━━━━━━━━━━━━━━━━━━━━━━━━━━━━━━━\u001b[0m \u001b[32m0.0/68.6 kB\u001b[0m \u001b[31m?\u001b[0m eta \u001b[36m-:--:--\u001b[0m\r\u001b[2K     \u001b[90m━━━━━━━━━━━━━━━━━━━━━━━━━━━━━━━━━━━━━━━━\u001b[0m \u001b[32m68.6/68.6 kB\u001b[0m \u001b[31m7.0 MB/s\u001b[0m eta \u001b[36m0:00:00\u001b[0m\n",
            "\u001b[?25h  Preparing metadata (setup.py) ... \u001b[?25l\u001b[?25hdone\n",
            "  Building wheel for uuid (setup.py) ... \u001b[?25l\u001b[?25hdone\n"
          ]
        }
      ],
      "source": [
        "!pip install jovian --upgrade --quiet"
      ],
      "id": "special-mauritius"
    },
    {
      "cell_type": "markdown",
      "metadata": {
        "id": "average-jaguar"
      },
      "source": [
        "## Problem Statement - Python Dictionaries and Hash Tables\n",
        "\n",
        "In this assignment, you will recreate Python dictionaries from scratch using data structure called *hash table*. Dictionaries in Python are used to store key-value pairs. Keys are used to store and retrieve values. For example, here's a dictionary for storing and retrieving phone numbers using people's names. "
      ],
      "id": "average-jaguar"
    },
    {
      "cell_type": "code",
      "execution_count": 3,
      "metadata": {
        "colab": {
          "base_uri": "https://localhost:8080/"
        },
        "id": "concerned-array",
        "outputId": "c3577046-e2a7-4c4a-c9e5-e79a1590473d"
      },
      "outputs": [
        {
          "output_type": "execute_result",
          "data": {
            "text/plain": [
              "{'Aakash': '9489484949', 'Hemanth': '9595949494', 'Siddhant': '9231325312'}"
            ]
          },
          "metadata": {},
          "execution_count": 3
        }
      ],
      "source": [
        "phone_numbers = {\n",
        "  'Aakash' : '9489484949',\n",
        "  'Hemanth' : '9595949494',\n",
        "  'Siddhant' : '9231325312'\n",
        "}\n",
        "phone_numbers"
      ],
      "id": "concerned-array"
    },
    {
      "cell_type": "markdown",
      "metadata": {
        "id": "applicable-winter"
      },
      "source": [
        "You can access a person's phone number using their name as follows:"
      ],
      "id": "applicable-winter"
    },
    {
      "cell_type": "code",
      "execution_count": 4,
      "metadata": {
        "colab": {
          "base_uri": "https://localhost:8080/",
          "height": 35
        },
        "id": "worldwide-opposition",
        "outputId": "d8bd35b0-287d-42ff-ca0b-2f3efa77a5ec"
      },
      "outputs": [
        {
          "output_type": "execute_result",
          "data": {
            "text/plain": [
              "'9489484949'"
            ],
            "application/vnd.google.colaboratory.intrinsic+json": {
              "type": "string"
            }
          },
          "metadata": {},
          "execution_count": 4
        }
      ],
      "source": [
        "phone_numbers['Aakash']"
      ],
      "id": "worldwide-opposition"
    },
    {
      "cell_type": "markdown",
      "metadata": {
        "id": "moral-optimum"
      },
      "source": [
        "You can store new phone numbers, or update existing ones as follows:"
      ],
      "id": "moral-optimum"
    },
    {
      "cell_type": "code",
      "execution_count": 5,
      "metadata": {
        "colab": {
          "base_uri": "https://localhost:8080/"
        },
        "id": "occupied-absolute",
        "outputId": "dc0ad00e-83eb-43dd-b0e5-0ec2ffc2b4c5"
      },
      "outputs": [
        {
          "output_type": "execute_result",
          "data": {
            "text/plain": [
              "{'Aakash': '7878787878',\n",
              " 'Hemanth': '9595949494',\n",
              " 'Siddhant': '9231325312',\n",
              " 'Vishal': '8787878787'}"
            ]
          },
          "metadata": {},
          "execution_count": 5
        }
      ],
      "source": [
        "# Add a new value\n",
        "phone_numbers['Vishal'] = '8787878787'\n",
        "# Update existing value\n",
        "phone_numbers['Aakash'] = '7878787878'\n",
        "# View the updated dictionary\n",
        "phone_numbers"
      ],
      "id": "occupied-absolute"
    },
    {
      "cell_type": "markdown",
      "metadata": {
        "id": "attached-architect"
      },
      "source": [
        "You can also view all the names and phone numbers stored in `phone_numbers` using a `for` loop."
      ],
      "id": "attached-architect"
    },
    {
      "cell_type": "code",
      "execution_count": 6,
      "metadata": {
        "colab": {
          "base_uri": "https://localhost:8080/"
        },
        "id": "worst-atmosphere",
        "outputId": "c458d5da-1888-4e16-8f26-a28045145073"
      },
      "outputs": [
        {
          "output_type": "stream",
          "name": "stdout",
          "text": [
            "Name: Aakash , Phone Number: 7878787878\n",
            "Name: Hemanth , Phone Number: 9595949494\n",
            "Name: Siddhant , Phone Number: 9231325312\n",
            "Name: Vishal , Phone Number: 8787878787\n"
          ]
        }
      ],
      "source": [
        "for name in phone_numbers:\n",
        "    print('Name:', name, ', Phone Number:', phone_numbers[name])"
      ],
      "id": "worst-atmosphere"
    },
    {
      "cell_type": "markdown",
      "metadata": {
        "id": "motivated-toolbox"
      },
      "source": [
        "Dictionaries in Python are implemented using a data structure called **hash table**. A hash table uses a list/array to store the key-value pairs, and uses a _hashing function_ to determine the index for storing or retrieving the data associated with a given key. \n",
        "\n",
        "Here's a visual representation of a hash table ([source](https://en.wikipedia.org/wiki/Hash_table)):\n",
        "\n",
        "<img src=\"https://i.imgur.com/5dPEmuY.png\" width=\"480\">\n",
        "\n",
        "Your objective in this assignment is to implement a `HashTable` class which supports the following operations:\n",
        "\n",
        "1. **Insert**: Insert a new key-value pair\n",
        "2. **Find**: Find the value associated with a key\n",
        "3. **Update**: Update the value associated with a key\n",
        "5. **List**: List all the keys stored in the hash table\n",
        "\n",
        "The `HashTable` class will have the following structure (note the function signatures):"
      ],
      "id": "motivated-toolbox"
    },
    {
      "cell_type": "code",
      "execution_count": 7,
      "metadata": {
        "id": "amino-princess"
      },
      "outputs": [],
      "source": [
        "class HashTable:\n",
        "    def insert(self, key, value):\n",
        "        \"\"\"Insert a new key-value pair\"\"\"\n",
        "        pass\n",
        "    \n",
        "    def find(self, key):\n",
        "        \"\"\"Find the value associated with a key\"\"\"\n",
        "        pass\n",
        "    \n",
        "    def update(self, key, value):\n",
        "        \"\"\"Change the value associated with a key\"\"\"\n",
        "        pass\n",
        "    \n",
        "    def list_all(self):\n",
        "        \"\"\"List all the keys\"\"\"\n",
        "        pass"
      ],
      "id": "amino-princess"
    },
    {
      "cell_type": "markdown",
      "metadata": {
        "id": "biblical-contractor"
      },
      "source": [
        "Before we begin our implementation, let's save and commit our work."
      ],
      "id": "biblical-contractor"
    },
    {
      "cell_type": "markdown",
      "metadata": {
        "id": "acute-healthcare"
      },
      "source": [
        "### Data List\n",
        "\n",
        "We'll build the `HashTable` class step-by-step. As a first step is to create a Python list which will hold all the key-value pairs. We'll start by creating a list of a fixed size.\n",
        "\n"
      ],
      "id": "acute-healthcare"
    },
    {
      "cell_type": "code",
      "execution_count": 8,
      "metadata": {
        "id": "indian-potential"
      },
      "outputs": [],
      "source": [
        "MAX_HASH_TABLE_SIZE = 4096"
      ],
      "id": "indian-potential"
    },
    {
      "cell_type": "markdown",
      "metadata": {
        "id": "upset-bullet"
      },
      "source": [
        "**QUESTION 1: Create a Python list of size `MAX_HASH_TABLE_SIZE`, with all the values set to `None`.**\n",
        "\n",
        "_Hint_: Use the [`*` operator](https://stackoverflow.com/questions/3459098/create-list-of-single-item-repeated-n-times)."
      ],
      "id": "upset-bullet"
    },
    {
      "cell_type": "code",
      "execution_count": 9,
      "metadata": {
        "id": "expected-responsibility"
      },
      "outputs": [],
      "source": [
        "# List of size MAX_HASH_TABLE_SIZE with all values None\n",
        "data_list = [None] * MAX_HASH_TABLE_SIZE"
      ],
      "id": "expected-responsibility"
    },
    {
      "cell_type": "markdown",
      "metadata": {
        "id": "patient-complexity"
      },
      "source": [
        "If the list was created successfully, the following cells should output `True`."
      ],
      "id": "patient-complexity"
    },
    {
      "cell_type": "code",
      "execution_count": 10,
      "metadata": {
        "colab": {
          "base_uri": "https://localhost:8080/"
        },
        "id": "cross-certification",
        "outputId": "05cf0d4a-f24c-4dcd-b7f7-86459f178699"
      },
      "outputs": [
        {
          "output_type": "execute_result",
          "data": {
            "text/plain": [
              "True"
            ]
          },
          "metadata": {},
          "execution_count": 10
        }
      ],
      "source": [
        "len(data_list) == 4096"
      ],
      "id": "cross-certification"
    },
    {
      "cell_type": "code",
      "execution_count": 11,
      "metadata": {
        "colab": {
          "base_uri": "https://localhost:8080/"
        },
        "id": "controlled-ideal",
        "outputId": "6432cec4-6fec-41b8-a762-b6629a2dc0f6"
      },
      "outputs": [
        {
          "output_type": "execute_result",
          "data": {
            "text/plain": [
              "True"
            ]
          },
          "metadata": {},
          "execution_count": 11
        }
      ],
      "source": [
        "data_list[99] == None"
      ],
      "id": "controlled-ideal"
    },
    {
      "cell_type": "markdown",
      "metadata": {
        "id": "juvenile-canal"
      },
      "source": [
        "Let's save our work before continuing."
      ],
      "id": "juvenile-canal"
    },
    {
      "cell_type": "markdown",
      "metadata": {
        "id": "radio-wisconsin"
      },
      "source": [
        "### Hashing Function\n",
        "\n",
        "A _hashing function_ is used to convert strings and other non-numeric data types into numbers, which can then be used as list indices. For instance, if a hashing function converts the string `\"Aakash\"` into the number `4`, then the key-value pair `('Aakash', '7878787878')` will be stored at the position `4` within the data list.\n",
        "\n",
        "Here's a simple algorithm for hashing, which can convert strings into numeric list indices.\n",
        "\n",
        "1. Iterate over the string, character by character\n",
        "2. Convert each character to a number using Python's built-in `ord` function.\n",
        "3. Add the numbers for each character to obtain the hash for the entire string \n",
        "4. Take the remainder of the result with the size of the data list\n",
        "\n",
        "\n",
        "**QUESTION 2: Complete the `get_index` function below which implements the hashing algorithm described above.**"
      ],
      "id": "radio-wisconsin"
    },
    {
      "cell_type": "code",
      "execution_count": 13,
      "metadata": {
        "id": "broken-vertex"
      },
      "outputs": [],
      "source": [
        "def get_index(data_list, a_string):\n",
        "    # Variable to store the result (updated after each iteration)\n",
        "    result = 0\n",
        "    \n",
        "    for a_character in a_string:\n",
        "        # Convert the character to a number (using ord)\n",
        "        a_number = ord(a_character)\n",
        "        # Update result by adding the number\n",
        "        result += a_number\n",
        "    \n",
        "    # Take the remainder of the result with the size of the data list\n",
        "    list_index = result % len(data_list)\n",
        "    return list_index"
      ],
      "id": "broken-vertex"
    },
    {
      "cell_type": "markdown",
      "metadata": {
        "id": "political-plain"
      },
      "source": [
        "If the `get_index` function was defined correctly, the following cells should output `True`."
      ],
      "id": "political-plain"
    },
    {
      "cell_type": "code",
      "execution_count": 14,
      "metadata": {
        "id": "hairy-margin",
        "outputId": "7f3db1ed-e1c4-4709-d2d6-397a75a4d25b",
        "colab": {
          "base_uri": "https://localhost:8080/"
        }
      },
      "outputs": [
        {
          "output_type": "execute_result",
          "data": {
            "text/plain": [
              "True"
            ]
          },
          "metadata": {},
          "execution_count": 14
        }
      ],
      "source": [
        "get_index(data_list, '') == 0"
      ],
      "id": "hairy-margin"
    },
    {
      "cell_type": "code",
      "execution_count": 15,
      "metadata": {
        "id": "split-league",
        "outputId": "aaa96ffc-304c-4112-e2a4-fbd5dd6bc32d",
        "colab": {
          "base_uri": "https://localhost:8080/"
        }
      },
      "outputs": [
        {
          "output_type": "execute_result",
          "data": {
            "text/plain": [
              "True"
            ]
          },
          "metadata": {},
          "execution_count": 15
        }
      ],
      "source": [
        "get_index(data_list, 'Aakash') == 585"
      ],
      "id": "split-league"
    },
    {
      "cell_type": "code",
      "execution_count": 16,
      "metadata": {
        "id": "insured-romania",
        "outputId": "24492c53-0963-43cd-bd8b-feda8548e840",
        "colab": {
          "base_uri": "https://localhost:8080/"
        }
      },
      "outputs": [
        {
          "output_type": "execute_result",
          "data": {
            "text/plain": [
              "True"
            ]
          },
          "metadata": {},
          "execution_count": 16
        }
      ],
      "source": [
        "get_index(data_list, 'Don O Leary') == 941"
      ],
      "id": "insured-romania"
    },
    {
      "cell_type": "markdown",
      "metadata": {
        "id": "secret-casting"
      },
      "source": [
        "(Optional) Test the `get_index` function using the empty cells below."
      ],
      "id": "secret-casting"
    },
    {
      "cell_type": "code",
      "execution_count": 18,
      "metadata": {
        "id": "close-speaker",
        "colab": {
          "base_uri": "https://localhost:8080/"
        },
        "outputId": "3f8e3547-736e-43a9-c0f9-5955950fc16d"
      },
      "outputs": [
        {
          "output_type": "execute_result",
          "data": {
            "text/plain": [
              "False"
            ]
          },
          "metadata": {},
          "execution_count": 18
        }
      ],
      "source": [
        "\n"
      ],
      "id": "close-speaker"
    },
    {
      "cell_type": "code",
      "execution_count": null,
      "metadata": {
        "id": "pleased-metadata"
      },
      "outputs": [],
      "source": [],
      "id": "pleased-metadata"
    },
    {
      "cell_type": "markdown",
      "metadata": {
        "id": "conventional-champion"
      },
      "source": [
        "#### Insert\n",
        "\n",
        "To insert a key-value pair into a hash table, we can simply get the hash of the key, and store the pair at that index in the data list."
      ],
      "id": "conventional-champion"
    },
    {
      "cell_type": "code",
      "execution_count": 19,
      "metadata": {
        "id": "applied-receipt"
      },
      "outputs": [],
      "source": [
        "key, value = 'Aakash', '7878787878'"
      ],
      "id": "applied-receipt"
    },
    {
      "cell_type": "code",
      "execution_count": 20,
      "metadata": {
        "id": "theoretical-november",
        "outputId": "914ba856-50ab-4e78-ee7c-b64d8e23985f",
        "colab": {
          "base_uri": "https://localhost:8080/"
        }
      },
      "outputs": [
        {
          "output_type": "execute_result",
          "data": {
            "text/plain": [
              "585"
            ]
          },
          "metadata": {},
          "execution_count": 20
        }
      ],
      "source": [
        "idx = get_index(data_list, key)\n",
        "idx"
      ],
      "id": "theoretical-november"
    },
    {
      "cell_type": "code",
      "execution_count": 21,
      "metadata": {
        "id": "animated-mason"
      },
      "outputs": [],
      "source": [
        "data_list[idx] = (key, value)"
      ],
      "id": "animated-mason"
    },
    {
      "cell_type": "markdown",
      "metadata": {
        "id": "attended-blend"
      },
      "source": [
        "Here's the same operation expressed in a single line of code."
      ],
      "id": "attended-blend"
    },
    {
      "cell_type": "code",
      "execution_count": 22,
      "metadata": {
        "id": "atlantic-marriage"
      },
      "outputs": [],
      "source": [
        "data_list[get_index(data_list, 'Hemanth')] = ('Hemanth', '9595949494')"
      ],
      "id": "atlantic-marriage"
    },
    {
      "cell_type": "markdown",
      "metadata": {
        "id": "grateful-lyric"
      },
      "source": [
        "#### Find\n",
        "\n",
        "The retrieve the value associated with a pair, we can get the hash of the key and look up that index in the data list."
      ],
      "id": "grateful-lyric"
    },
    {
      "cell_type": "code",
      "execution_count": 23,
      "metadata": {
        "id": "banner-austria",
        "outputId": "5f29649d-f787-418a-a5d9-8ec7cd3f07d2",
        "colab": {
          "base_uri": "https://localhost:8080/"
        }
      },
      "outputs": [
        {
          "output_type": "execute_result",
          "data": {
            "text/plain": [
              "585"
            ]
          },
          "metadata": {},
          "execution_count": 23
        }
      ],
      "source": [
        "idx = get_index(data_list, 'Aakash')\n",
        "idx"
      ],
      "id": "banner-austria"
    },
    {
      "cell_type": "code",
      "execution_count": 24,
      "metadata": {
        "id": "conceptual-ensemble",
        "outputId": "836db1b4-af7c-43ae-8732-57fed3ea2bf1",
        "colab": {
          "base_uri": "https://localhost:8080/",
          "height": 35
        }
      },
      "outputs": [
        {
          "output_type": "execute_result",
          "data": {
            "text/plain": [
              "'7878787878'"
            ],
            "application/vnd.google.colaboratory.intrinsic+json": {
              "type": "string"
            }
          },
          "metadata": {},
          "execution_count": 24
        }
      ],
      "source": [
        "key, value = data_list[idx]\n",
        "value"
      ],
      "id": "conceptual-ensemble"
    },
    {
      "cell_type": "markdown",
      "metadata": {
        "id": "aggregate-memorial"
      },
      "source": [
        "#### List\n",
        "\n",
        "To get the list of keys, we can use a simple [list comprehension](https://www.w3schools.com/python/python_lists_comprehension.asp)."
      ],
      "id": "aggregate-memorial"
    },
    {
      "cell_type": "code",
      "execution_count": 25,
      "metadata": {
        "id": "electric-democracy"
      },
      "outputs": [],
      "source": [
        "pairs = [kv[0] for kv in data_list if kv is not None]"
      ],
      "id": "electric-democracy"
    },
    {
      "cell_type": "code",
      "execution_count": 26,
      "metadata": {
        "id": "flying-composer",
        "outputId": "9d7c2d25-7f46-4b43-90af-b37cfa7786ef",
        "colab": {
          "base_uri": "https://localhost:8080/"
        }
      },
      "outputs": [
        {
          "output_type": "execute_result",
          "data": {
            "text/plain": [
              "['Aakash', 'Hemanth']"
            ]
          },
          "metadata": {},
          "execution_count": 26
        }
      ],
      "source": [
        "pairs"
      ],
      "id": "flying-composer"
    },
    {
      "cell_type": "markdown",
      "metadata": {
        "id": "speaking-aerospace"
      },
      "source": [
        "Let's save our work before continuing."
      ],
      "id": "speaking-aerospace"
    },
    {
      "cell_type": "markdown",
      "metadata": {
        "id": "geological-medication"
      },
      "source": [
        "### Basic Hash Table Implementation\n",
        "\n",
        "We can now use the hashing function defined above to implement a basic hash table in Python.\n",
        "\n",
        "\n",
        "**QUESTION 3: Complete the hash table implementation below by following the instructions in the comments.**\n",
        "\n",
        "_Hint_: Insert and update can have identical implementations.\n"
      ],
      "id": "geological-medication"
    },
    {
      "cell_type": "code",
      "execution_count": 30,
      "metadata": {
        "id": "hydraulic-moses"
      },
      "outputs": [],
      "source": [
        "class BasicHashTable:\n",
        "    def __init__(self, max_size=MAX_HASH_TABLE_SIZE):\n",
        "        # 1. Create a list of size `max_size` with all values None\n",
        "        self.data_list = [None] * max_size\n",
        "     \n",
        "    \n",
        "    def insert(self, key, value):\n",
        "        # 1. Find the index for the key using get_index\n",
        "        idx = get_index(self.data_list, key)\n",
        "        \n",
        "        # 2. Store the key-value pair at the right index\n",
        "        self.data_list[idx] = (key, value)\n",
        "    \n",
        "    \n",
        "    def find(self, key):\n",
        "        # 1. Find the index for the key using get_index\n",
        "        idx = get_index(self.data_list, key)\n",
        "        \n",
        "        # 2. Retrieve the data stored at the index\n",
        "        kv = self.data_list[idx]\n",
        "        \n",
        "        # 3. Return the value if found, else return None\n",
        "        if kv is None:\n",
        "            return None\n",
        "        else:\n",
        "            key, value = kv\n",
        "            return value\n",
        "    \n",
        "    \n",
        "    def update(self, key, value):\n",
        "        # 1. Find the index for the key using get_index\n",
        "        idx = get_index(self.data_list, key)\n",
        "        \n",
        "        # 2. Store the new key-value pair at the right index\n",
        "        self.data_list[idx] = (key, value)\n",
        "\n",
        "    \n",
        "    def list_all(self):\n",
        "        # 1. Extract the key from each key-value pair \n",
        "        return [kv[0] for kv in self.data_list if kv is not None]"
      ],
      "id": "hydraulic-moses"
    },
    {
      "cell_type": "markdown",
      "metadata": {
        "id": "green-health"
      },
      "source": [
        "If the `BasicHashTable` class was defined correctly, the following cells should output `True`."
      ],
      "id": "green-health"
    },
    {
      "cell_type": "code",
      "execution_count": 31,
      "metadata": {
        "id": "automotive-aerospace",
        "outputId": "5ead8a93-dfdb-4b19-ce01-0f4795303cef",
        "colab": {
          "base_uri": "https://localhost:8080/"
        }
      },
      "outputs": [
        {
          "output_type": "execute_result",
          "data": {
            "text/plain": [
              "True"
            ]
          },
          "metadata": {},
          "execution_count": 31
        }
      ],
      "source": [
        "basic_table = BasicHashTable(max_size=1024)\n",
        "len(basic_table.data_list) == 1024"
      ],
      "id": "automotive-aerospace"
    },
    {
      "cell_type": "code",
      "execution_count": 32,
      "metadata": {
        "id": "awful-contemporary",
        "outputId": "bcd72043-6d2f-44c4-acac-0bbd1a22e8b6",
        "colab": {
          "base_uri": "https://localhost:8080/"
        }
      },
      "outputs": [
        {
          "output_type": "execute_result",
          "data": {
            "text/plain": [
              "True"
            ]
          },
          "metadata": {},
          "execution_count": 32
        }
      ],
      "source": [
        "# Insert some values\n",
        "basic_table.insert('Aakash', '9999999999')\n",
        "basic_table.insert('Hemanth', '8888888888')\n",
        "\n",
        "# Find a value\n",
        "basic_table.find('Hemanth') == '8888888888'"
      ],
      "id": "awful-contemporary"
    },
    {
      "cell_type": "code",
      "execution_count": 33,
      "metadata": {
        "id": "sustainable-latter",
        "outputId": "8d5fcc19-68df-4ee2-d691-8403d10e23f9",
        "colab": {
          "base_uri": "https://localhost:8080/"
        }
      },
      "outputs": [
        {
          "output_type": "execute_result",
          "data": {
            "text/plain": [
              "True"
            ]
          },
          "metadata": {},
          "execution_count": 33
        }
      ],
      "source": [
        "# Update a value\n",
        "basic_table.update('Aakash', '7777777777')\n",
        "\n",
        "# Check the updated value\n",
        "basic_table.find('Aakash') == '7777777777'"
      ],
      "id": "sustainable-latter"
    },
    {
      "cell_type": "code",
      "execution_count": 34,
      "metadata": {
        "id": "accredited-fruit",
        "outputId": "d08e2962-b49d-45fa-a8ff-c7a01e59f8f0",
        "colab": {
          "base_uri": "https://localhost:8080/"
        }
      },
      "outputs": [
        {
          "output_type": "execute_result",
          "data": {
            "text/plain": [
              "True"
            ]
          },
          "metadata": {},
          "execution_count": 34
        }
      ],
      "source": [
        "# Get the list of keys\n",
        "basic_table.list_all() == ['Aakash', 'Hemanth']"
      ],
      "id": "accredited-fruit"
    },
    {
      "cell_type": "markdown",
      "metadata": {
        "id": "blank-thesaurus"
      },
      "source": [
        "(Optional) Test your implementation of `BasicHashTable` with some more examples below."
      ],
      "id": "blank-thesaurus"
    },
    {
      "cell_type": "code",
      "execution_count": null,
      "metadata": {
        "id": "antique-reverse"
      },
      "outputs": [],
      "source": [],
      "id": "antique-reverse"
    },
    {
      "cell_type": "code",
      "execution_count": null,
      "metadata": {
        "id": "sustained-surgery"
      },
      "outputs": [],
      "source": [],
      "id": "sustained-surgery"
    },
    {
      "cell_type": "code",
      "execution_count": null,
      "metadata": {
        "id": "cutting-confirmation"
      },
      "outputs": [],
      "source": [],
      "id": "cutting-confirmation"
    },
    {
      "cell_type": "markdown",
      "metadata": {
        "id": "identified-gather"
      },
      "source": [
        "Let's save our work before continuing."
      ],
      "id": "identified-gather"
    },
    {
      "cell_type": "markdown",
      "metadata": {
        "id": "local-fairy"
      },
      "source": [
        "### Handling Collisions with Linear Probing\n",
        "\n",
        "As you might have wondered, multiple keys can have the same hash. For instance, the keys `\"listen\"` and `\"silent\"` have the same hash. This is referred to as _collision_. Data stored against one key may override the data stored against another, if they have the same hash.\n"
      ],
      "id": "local-fairy"
    },
    {
      "cell_type": "code",
      "execution_count": 35,
      "metadata": {
        "id": "designed-bridal"
      },
      "outputs": [],
      "source": [
        "basic_table.insert('listen', 99)"
      ],
      "id": "designed-bridal"
    },
    {
      "cell_type": "code",
      "execution_count": 36,
      "metadata": {
        "id": "removed-coating"
      },
      "outputs": [],
      "source": [
        "basic_table.insert('silent', 200)"
      ],
      "id": "removed-coating"
    },
    {
      "cell_type": "code",
      "execution_count": 37,
      "metadata": {
        "id": "danish-documentation",
        "outputId": "f9afa6d0-31e4-4cb7-d91b-886d0b79ebb0",
        "colab": {
          "base_uri": "https://localhost:8080/"
        }
      },
      "outputs": [
        {
          "output_type": "execute_result",
          "data": {
            "text/plain": [
              "200"
            ]
          },
          "metadata": {},
          "execution_count": 37
        }
      ],
      "source": [
        "basic_table.find('listen')"
      ],
      "id": "danish-documentation"
    },
    {
      "cell_type": "markdown",
      "metadata": {
        "id": "focal-intent"
      },
      "source": [
        "As you can see above, the value for the key `listen` was overwritten by the value for the key `silent`. Our hash table implementation is incomplete because it does not handle collisions correctly.\n",
        "\n",
        "To handle collisions we'll use a technique called linear probing. Here's how it works: \n",
        "\n",
        "1. While inserting a new key-value pair if the target index for a key is occupied by another key, then we try the next index, followed by the next and so on till we the closest empty location.\n",
        "\n",
        "2. While finding a key-value pair, we apply the same strategy, but instead of searching for an empty location, we look for a location which contains a key-value pair with the matching key.\n",
        "\n",
        "2. While updating a key-value pair, we apply the same strategy, but instead of searching for an empty location, we look for a location which contains a key-value pair with the matching key, and update its value.\n",
        "\n",
        "\n",
        "We'll define a function called `get_valid_index`, which starts searching the data list from the index determined by the hashing function `get_index` and returns the first index which is either empty or contains a key-value pair matching the given key.\n",
        "\n",
        "**QUESTION 4: Complete the function `get_valid_index` below by following the instructions in the comments.**"
      ],
      "id": "focal-intent"
    },
    {
      "cell_type": "code",
      "execution_count": 38,
      "metadata": {
        "id": "speaking-reform"
      },
      "outputs": [],
      "source": [
        "def get_valid_index(data_list, key):\n",
        "    # Start with the index returned by get_index\n",
        "    idx = get_index(data_list, key)\n",
        "    \n",
        "    while True:\n",
        "        # Get the key-value pair stored at idx\n",
        "        kv = data_list[idx]\n",
        "        \n",
        "        # If it is None, return the index\n",
        "        if kv is None:\n",
        "            return idx\n",
        "        \n",
        "        # If the stored key matches the given key, return the index\n",
        "        k, v = kv\n",
        "        if k == key:\n",
        "            return idx\n",
        "        \n",
        "        # Move to the next index\n",
        "        idx += 1\n",
        "        \n",
        "        # Go back to the start if you have reached the end of the array\n",
        "        if idx == len(data_list):\n",
        "            idx = 0"
      ],
      "id": "speaking-reform"
    },
    {
      "cell_type": "code",
      "execution_count": null,
      "metadata": {
        "id": "stable-journalism"
      },
      "outputs": [],
      "source": [],
      "id": "stable-journalism"
    },
    {
      "cell_type": "markdown",
      "metadata": {
        "id": "addressed-announcement"
      },
      "source": [
        " If `get_valid_index` was defined correctly, the following cells should output `True`."
      ],
      "id": "addressed-announcement"
    },
    {
      "cell_type": "code",
      "execution_count": 39,
      "metadata": {
        "id": "shared-breathing",
        "outputId": "1b65002d-f569-4fb1-ad34-b0488fb62f63",
        "colab": {
          "base_uri": "https://localhost:8080/"
        }
      },
      "outputs": [
        {
          "output_type": "execute_result",
          "data": {
            "text/plain": [
              "True"
            ]
          },
          "metadata": {},
          "execution_count": 39
        }
      ],
      "source": [
        "# Create an empty hash table\n",
        "data_list2 = [None] * MAX_HASH_TABLE_SIZE\n",
        "\n",
        "# New key 'listen' should return expected index\n",
        "get_valid_index(data_list2, 'listen') == 655"
      ],
      "id": "shared-breathing"
    },
    {
      "cell_type": "code",
      "execution_count": 40,
      "metadata": {
        "id": "sophisticated-enterprise",
        "outputId": "d64c650c-3a7a-4e0a-cefe-40e4f4ab786e",
        "colab": {
          "base_uri": "https://localhost:8080/"
        }
      },
      "outputs": [
        {
          "output_type": "execute_result",
          "data": {
            "text/plain": [
              "True"
            ]
          },
          "metadata": {},
          "execution_count": 40
        }
      ],
      "source": [
        "# Insert a key-value pair for the key 'listen'\n",
        "data_list2[get_index(data_list2, 'listen')] = ('listen', 99)\n",
        "\n",
        "# Colliding key 'silent' should return next index\n",
        "get_valid_index(data_list2, 'silent') == 656"
      ],
      "id": "sophisticated-enterprise"
    },
    {
      "cell_type": "markdown",
      "metadata": {
        "id": "scenic-drink"
      },
      "source": [
        "(Optional) Test your implementation of `get_valid_index` on some more examples using the empty cells below."
      ],
      "id": "scenic-drink"
    },
    {
      "cell_type": "code",
      "execution_count": null,
      "metadata": {
        "id": "parallel-birmingham"
      },
      "outputs": [],
      "source": [],
      "id": "parallel-birmingham"
    },
    {
      "cell_type": "code",
      "execution_count": null,
      "metadata": {
        "id": "fewer-stylus"
      },
      "outputs": [],
      "source": [],
      "id": "fewer-stylus"
    },
    {
      "cell_type": "code",
      "execution_count": null,
      "metadata": {
        "id": "regulated-subject"
      },
      "outputs": [],
      "source": [],
      "id": "regulated-subject"
    },
    {
      "cell_type": "markdown",
      "metadata": {
        "id": "lasting-grocery"
      },
      "source": [
        "Let's save our work before continuing."
      ],
      "id": "lasting-grocery"
    },
    {
      "cell_type": "markdown",
      "metadata": {
        "id": "polish-grill"
      },
      "source": [
        "### Hash Table with Linear Probing\n",
        "\n",
        "We can now implement a hash table with linear probing.\n",
        "\n",
        "**QUESTION 5: Complete the hash table (with linear probing) implementation below by following the instructions in the comments.**"
      ],
      "id": "polish-grill"
    },
    {
      "cell_type": "code",
      "execution_count": 41,
      "metadata": {
        "id": "abstract-stanley"
      },
      "outputs": [],
      "source": [
        "class ProbingHashTable:\n",
        "    def __init__(self, max_size=MAX_HASH_TABLE_SIZE):\n",
        "        # 1. Create a list of size `max_size` with all values None\n",
        "        self.data_list = [None] * max_size\n",
        "     \n",
        "    \n",
        "    def insert(self, key, value):\n",
        "        # 1. Find the index for the key using get_valid_index\n",
        "        idx = get_valid_index(self.data_list, key)\n",
        "        \n",
        "        # 2. Store the key-value pair at the right index\n",
        "        self.data_list[idx] = (key, value)\n",
        "    \n",
        "    \n",
        "    def find(self, key):\n",
        "        # 1. Find the index for the key using get_valid_index\n",
        "        idx = get_valid_index(self.data_list, key)\n",
        "        \n",
        "        # 2. Retrieve the data stored at the index\n",
        "        kv = self.data_list[idx]\n",
        "        \n",
        "        # 3. Return the value if found, else return None\n",
        "        return None if kv is None else kv[1]\n",
        "    \n",
        "    \n",
        "    def update(self, key, value):\n",
        "        # 1. Find the index for the key using get_valid_index\n",
        "        idx = get_valid_index(self.data_list, key)\n",
        "        \n",
        "        # 2. Store the new key-value pair at the right index\n",
        "        self.data_list[idx] = (key, value)\n",
        "\n",
        "    \n",
        "    def list_all(self):\n",
        "        # 1. Extract the key from each key-value pair \n",
        "        return [kv[0] for kv in self.data_list if kv is not None]"
      ],
      "id": "abstract-stanley"
    },
    {
      "cell_type": "markdown",
      "metadata": {
        "id": "happy-contributor"
      },
      "source": [
        "If the `ProbingHashTable` class was defined correctly, the following cells should output `True`."
      ],
      "id": "happy-contributor"
    },
    {
      "cell_type": "code",
      "execution_count": 42,
      "metadata": {
        "id": "strange-apache",
        "outputId": "79905e79-03b4-458a-81a1-9f8da85687c0",
        "colab": {
          "base_uri": "https://localhost:8080/"
        }
      },
      "outputs": [
        {
          "output_type": "execute_result",
          "data": {
            "text/plain": [
              "True"
            ]
          },
          "metadata": {},
          "execution_count": 42
        }
      ],
      "source": [
        "# Create a new hash table\n",
        "probing_table = ProbingHashTable()\n",
        "\n",
        "# Insert a value\n",
        "probing_table.insert('listen', 99)\n",
        "\n",
        "# Check the value\n",
        "probing_table.find('listen') == 99"
      ],
      "id": "strange-apache"
    },
    {
      "cell_type": "code",
      "execution_count": 43,
      "metadata": {
        "id": "lovely-boost",
        "outputId": "f4de8236-4c0a-4c4e-eb3c-8e58d1c46c37",
        "colab": {
          "base_uri": "https://localhost:8080/"
        }
      },
      "outputs": [
        {
          "output_type": "execute_result",
          "data": {
            "text/plain": [
              "True"
            ]
          },
          "metadata": {},
          "execution_count": 43
        }
      ],
      "source": [
        "# Insert a colliding key\n",
        "probing_table.insert('silent', 200)\n",
        "\n",
        "# Check the new and old keys\n",
        "probing_table.find('listen') == 99 and probing_table.find('silent') == 200"
      ],
      "id": "lovely-boost"
    },
    {
      "cell_type": "code",
      "execution_count": 44,
      "metadata": {
        "id": "yellow-burlington",
        "outputId": "529bd639-68d5-4d56-971d-0b887b000686",
        "colab": {
          "base_uri": "https://localhost:8080/"
        }
      },
      "outputs": [
        {
          "output_type": "execute_result",
          "data": {
            "text/plain": [
              "True"
            ]
          },
          "metadata": {},
          "execution_count": 44
        }
      ],
      "source": [
        "# Update a key\n",
        "probing_table.insert('listen', 101)\n",
        "\n",
        "# Check the value\n",
        "probing_table.find('listen') == 101"
      ],
      "id": "yellow-burlington"
    },
    {
      "cell_type": "code",
      "execution_count": 45,
      "metadata": {
        "id": "assumed-standing",
        "outputId": "d94c83ec-ba64-41d1-b27c-c3a4f2b99390",
        "colab": {
          "base_uri": "https://localhost:8080/"
        }
      },
      "outputs": [
        {
          "output_type": "execute_result",
          "data": {
            "text/plain": [
              "True"
            ]
          },
          "metadata": {},
          "execution_count": 45
        }
      ],
      "source": [
        "probing_table.list_all() == ['listen', 'silent']"
      ],
      "id": "assumed-standing"
    },
    {
      "cell_type": "markdown",
      "metadata": {
        "id": "precise-zambia"
      },
      "source": [
        "(Optional) Test your implementation of `ProbingHashTable` using the empty cells below."
      ],
      "id": "precise-zambia"
    },
    {
      "cell_type": "code",
      "execution_count": null,
      "metadata": {
        "id": "ideal-retailer"
      },
      "outputs": [],
      "source": [],
      "id": "ideal-retailer"
    },
    {
      "cell_type": "code",
      "execution_count": null,
      "metadata": {
        "id": "manual-pendant"
      },
      "outputs": [],
      "source": [],
      "id": "manual-pendant"
    },
    {
      "cell_type": "code",
      "execution_count": null,
      "metadata": {
        "id": "automatic-recorder"
      },
      "outputs": [],
      "source": [],
      "id": "automatic-recorder"
    },
    {
      "cell_type": "markdown",
      "metadata": {
        "id": "living-graphics"
      },
      "source": [
        "Save your work before continuing."
      ],
      "id": "living-graphics"
    },
    {
      "cell_type": "markdown",
      "metadata": {
        "id": "lined-somalia"
      },
      "source": [
        "### Make a Submission\n",
        "\n",
        "Congrats! You have now implemented hash tables from scratch. The rest of this assignment is optional. \n",
        "\n",
        "You can make a submission on this page: https://jovian.ai/learn/data-structures-and-algorithms-in-python/assignment/assignment-2-hash-table-and-python-dictionaries . Submit the link to your Jovian notebook (the output of the previous cell).\n",
        "\n",
        "\n",
        "You can also make a direct submission by executing the following cell:"
      ],
      "id": "lined-somalia"
    },
    {
      "cell_type": "markdown",
      "metadata": {
        "id": "frank-valve"
      },
      "source": [
        "If you are stuck, you can get help on the forum: https://jovian.ai/forum/c/data-structures-and-algorithms-in-python/assignment-2/88"
      ],
      "id": "frank-valve"
    },
    {
      "cell_type": "markdown",
      "metadata": {
        "id": "qualified-affairs"
      },
      "source": [
        "### (Optional) Python Dictionaries using Hash Tables\n",
        "\n",
        "We can now implement Python dictionaries using hash tables. Also, Python provides a built-in function called `hash` which we can use instead of our custom hash function. It is likely to have far fewer collisions\n",
        "\n",
        "**(Optional) Question: Implement a python-friendly interface for the hash table.**"
      ],
      "id": "qualified-affairs"
    },
    {
      "cell_type": "code",
      "execution_count": 47,
      "metadata": {
        "id": "typical-copper"
      },
      "outputs": [],
      "source": [
        "MAX_HASH_TABLE_SIZE = 4096\n",
        "\n",
        "class HashTable:\n",
        "    def __init__(self, max_size=MAX_HASH_TABLE_SIZE):\n",
        "        self.data_list = [None] * max_size\n",
        "        \n",
        "    def get_valid_index(self, key):\n",
        "        # Use Python's in-built `hash` function and implement linear probing\n",
        "        idx = hash(key) % len(self.data_list)\n",
        "        while self.data_list[idx] and self.data_list[idx][0] != key:\n",
        "          idx = (idx + 1) % len(self.data_list)\n",
        "        return idx\n",
        "        \n",
        "    def __getitem__(self, key):\n",
        "        # Implement the logic for \"find\" here\n",
        "        idx = self.get_valid_index(key)\n",
        "        if self.data_list[idx] is None:\n",
        "          raise KeyError(str(key))\n",
        "        return self.data_list[idx][1]\n",
        "    \n",
        "    def __setitem__(self, key, value):\n",
        "        # Implement the logic for \"insert/update\" here\n",
        "        idx = self.get_valid_index(key)\n",
        "        self.data_list[idx] = (key, value)\n",
        "    \n",
        "    def __iter__(self):\n",
        "        return (x for x in self.data_list if x is not None)\n",
        "    \n",
        "    def __len__(self):\n",
        "        return len([x for x in self])\n",
        "    \n",
        "    def __repr__(self):\n",
        "        from textwrap import indent\n",
        "        pairs = [indent(\"{} : {}\".format(repr(kv[0]), repr(kv[1])), '  ') for kv in self]\n",
        "        return \"{\\n\" + \"{}\".format(',\\n'.join(pairs)) + \"\\n}\"\n",
        "    \n",
        "    def __str__(self):\n",
        "        return repr(self)"
      ],
      "id": "typical-copper"
    },
    {
      "cell_type": "markdown",
      "metadata": {
        "id": "popular-warren"
      },
      "source": [
        "If the `HashTable` class was defined correctly, the following cells should output `True`."
      ],
      "id": "popular-warren"
    },
    {
      "cell_type": "code",
      "execution_count": 48,
      "metadata": {
        "id": "controlling-estate",
        "outputId": "a4cb21ca-db9f-4e6b-b1e9-c56b96a53a1f",
        "colab": {
          "base_uri": "https://localhost:8080/"
        }
      },
      "outputs": [
        {
          "output_type": "execute_result",
          "data": {
            "text/plain": [
              "True"
            ]
          },
          "metadata": {},
          "execution_count": 48
        }
      ],
      "source": [
        "# Create a hash table\n",
        "table = HashTable()\n",
        "\n",
        "# Insert some key-value pairs\n",
        "table['a'] = 1\n",
        "table['b'] = 34\n",
        "\n",
        "# Retrieve the inserted values\n",
        "table['a'] == 1 and table['b'] == 34"
      ],
      "id": "controlling-estate"
    },
    {
      "cell_type": "code",
      "execution_count": 49,
      "metadata": {
        "id": "driving-afternoon",
        "outputId": "2a63b445-1745-4596-b0e5-a105a69aed84",
        "colab": {
          "base_uri": "https://localhost:8080/"
        }
      },
      "outputs": [
        {
          "output_type": "execute_result",
          "data": {
            "text/plain": [
              "True"
            ]
          },
          "metadata": {},
          "execution_count": 49
        }
      ],
      "source": [
        "# Update a value\n",
        "table['a'] = 99\n",
        "\n",
        "# Check the updated value\n",
        "table['a'] == 99"
      ],
      "id": "driving-afternoon"
    },
    {
      "cell_type": "code",
      "execution_count": 52,
      "metadata": {
        "id": "restricted-power",
        "outputId": "ca2f15a9-de93-47d3-a2e0-1fdda486a658",
        "colab": {
          "base_uri": "https://localhost:8080/"
        }
      },
      "outputs": [
        {
          "output_type": "execute_result",
          "data": {
            "text/plain": [
              "True"
            ]
          },
          "metadata": {},
          "execution_count": 52
        }
      ],
      "source": [
        "# Get a list of key-value pairs\n",
        "list(table) == [('b', 34), ('a', 99)]"
      ],
      "id": "restricted-power"
    },
    {
      "cell_type": "markdown",
      "metadata": {
        "id": "hispanic-depth"
      },
      "source": [
        "Since we have also implemented the `__repr__` and `__str__` functions, the output of the next cell should be:\n",
        "\n",
        "```\n",
        "{\n",
        "  'a' : 99,\n",
        "  'b' : 34\n",
        "}\n",
        "```"
      ],
      "id": "hispanic-depth"
    },
    {
      "cell_type": "code",
      "execution_count": 51,
      "metadata": {
        "id": "black-cedar",
        "outputId": "77ce89e3-c49d-4ab6-d363-80cf409cc17a",
        "colab": {
          "base_uri": "https://localhost:8080/"
        }
      },
      "outputs": [
        {
          "output_type": "execute_result",
          "data": {
            "text/plain": [
              "{\n",
              "  'b' : 34,\n",
              "  'a' : 99\n",
              "}"
            ]
          },
          "metadata": {},
          "execution_count": 51
        }
      ],
      "source": [
        "table"
      ],
      "id": "black-cedar"
    },
    {
      "cell_type": "markdown",
      "metadata": {
        "id": "electrical-aberdeen"
      },
      "source": [
        "Let's save our work before continuing."
      ],
      "id": "electrical-aberdeen"
    },
    {
      "cell_type": "code",
      "execution_count": 53,
      "metadata": {
        "id": "apparent-spider"
      },
      "outputs": [],
      "source": [
        "import jovian"
      ],
      "id": "apparent-spider"
    },
    {
      "cell_type": "code",
      "execution_count": 54,
      "metadata": {
        "id": "tropical-singer",
        "outputId": "2594fb9f-4f2e-466f-812e-7d277fdb6fa7",
        "colab": {
          "base_uri": "https://localhost:8080/"
        }
      },
      "outputs": [
        {
          "output_type": "stream",
          "name": "stdout",
          "text": [
            "[jovian] Detected Colab notebook...\u001b[0m\n",
            "[jovian] jovian.commit() is no longer required on Google Colab. If you ran this notebook from Jovian, \n",
            "then just save this file in Colab using Ctrl+S/Cmd+S and it will be updated on Jovian. \n",
            "Also, you can also delete this cell, it's no longer necessary.\u001b[0m\n"
          ]
        }
      ],
      "source": [
        "jovian.commit(project=project)"
      ],
      "id": "tropical-singer"
    },
    {
      "cell_type": "markdown",
      "metadata": {
        "id": "great-piece"
      },
      "source": [
        "### (Optional) Hash Table Improvements\n",
        "\n",
        "Here are some more improvements/changes you can make to your hash table implementation:\n",
        "\n",
        "* **Track the size of the hash table** i.e. number of key-value pairs so that `len(table)` has complexity O(1).\n",
        "* **Implement deletion with tombstones** as described here: https://research.cs.vt.edu/AVresearch/hashing/deletion.php\n",
        "* **Implement dynamic resizing** to automatically grow/shrink the data list: https://charlesreid1.com/wiki/Hash_Maps/Dynamic_Resizing\n",
        "* **Implement separate chaining**, an alternative to linear probing for collision resolution: https://www.youtube.com/watch/T9gct6Dx-jo\n"
      ],
      "id": "great-piece"
    },
    {
      "cell_type": "markdown",
      "metadata": {
        "id": "annoying-background"
      },
      "source": [
        "### (Optional) Complexity Analysis\n",
        "\n",
        "With choice of a good hashing function and other improvements like dynamic resizing, you can \n",
        "\n",
        "\n",
        "| Operation      | Average-case time complexity | Worst-case time complexity |\n",
        "| ----------- | ----------- |---------|\n",
        "| Insert/Update      | **O(1)**    | **O(n)**|\n",
        "| Find   | **O(1)**    | **O(n)**|\n",
        "| Delete   | **O(1)**    | **O(n)**|\n",
        "| List   | **O(n)**    | **O(n)**|\n",
        "\n",
        "\n",
        "Here are some questions to ponder upon?\n",
        "\n",
        "- What is average case complexity? How does it differ from worst-case complexity?\n",
        "- Do you see why insert/find/update have average-case complexity of O(1) and worst-case complexity of O(n) ?\n",
        "- How is the complexity of hash tables different from binary search trees?\n",
        "- When should you prefer using hash table over binary trees or vice versa?\n",
        "\n",
        "Discuss your answers on the forum: https://jovian.ai/forum/c/data-structures-and-algorithms-in-python/assignment-2/88"
      ],
      "id": "annoying-background"
    }
  ],
  "metadata": {
    "colab": {
      "provenance": [],
      "include_colab_link": true
    },
    "kernelspec": {
      "display_name": "Python 3",
      "language": "python",
      "name": "python3"
    },
    "language_info": {
      "codemirror_mode": {
        "name": "ipython",
        "version": 3
      },
      "file_extension": ".py",
      "mimetype": "text/x-python",
      "name": "python",
      "nbconvert_exporter": "python",
      "pygments_lexer": "ipython3",
      "version": "3.6.12"
    }
  },
  "nbformat": 4,
  "nbformat_minor": 5
}